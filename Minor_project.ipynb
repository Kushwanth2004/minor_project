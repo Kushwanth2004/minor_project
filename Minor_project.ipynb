{
  "nbformat": 4,
  "nbformat_minor": 0,
  "metadata": {
    "colab": {
      "provenance": [],
      "authorship_tag": "ABX9TyPD+5kkQ69MFZBJpfxgtmeZ",
      "include_colab_link": true
    },
    "kernelspec": {
      "name": "python3",
      "display_name": "Python 3"
    },
    "language_info": {
      "name": "python"
    }
  },
  "cells": [
    {
      "cell_type": "markdown",
      "metadata": {
        "id": "view-in-github",
        "colab_type": "text"
      },
      "source": [
        "<a href=\"https://colab.research.google.com/github/Kushwanth2004/minor_project/blob/project/Minor_project.ipynb\" target=\"_parent\"><img src=\"https://colab.research.google.com/assets/colab-badge.svg\" alt=\"Open In Colab\"/></a>"
      ]
    },
    {
      "cell_type": "code",
      "execution_count": null,
      "metadata": {
        "colab": {
          "base_uri": "https://localhost:8080/"
        },
        "id": "33qCs_iLUeVV",
        "outputId": "b816a34a-f473-4cc9-cd5e-d3e539c731a6"
      },
      "outputs": [
        {
          "output_type": "stream",
          "name": "stdout",
          "text": [
            "Enter number of tries: 4\n",
            "Enter your guess: 234\n",
            "1 dogs, 0 cats\n",
            "Enter your guess: 729\n",
            "0 dogs, 0 cats\n",
            "Enter your guess: 936\n",
            "0 dogs, 0 cats\n",
            "Enter your guess: 290\n",
            "0 dogs, 0 cats\n",
            "You ran out of tries. Number was 854\n"
          ]
        }
      ],
      "source": [
        "import random\n",
        "\n",
        "def required(value):\n",
        "\treturn [int(i) for i in str(value)]\n",
        "\n",
        "def duplicate(value):\n",
        "\tnum_list = required(value)\n",
        "\tif len(num_list) == len(set(num_list)):\n",
        "\t\treturn True\n",
        "\telse:\n",
        "\t\treturn False\n",
        "\n",
        "def generateNum():\n",
        "\twhile True:\n",
        "\t\tvalue = random.randint(100,999)\n",
        "\t\tif duplicate(value):\n",
        "\t\t\treturn value\n",
        "\n",
        "def numOfdogscats(value,guess):\n",
        "\tdog_cat = [0,0]\n",
        "\tnum_list = required(value)\n",
        "\tguess_list = required(guess)\n",
        "\n",
        "\tfor k,l in zip(num_list,guess_list):\n",
        "\t\tif l in num_list:\n",
        "\t\t\tif l == k:\n",
        "\t\t\t\tdog_cat[0] += 1\n",
        "\t\t\telse:\n",
        "\t\t\t\tdog_cat[1] += 1\n",
        "\treturn dog_cat\n",
        "\n",
        "value = generateNum()\n",
        "tries =int(input('Enter number of tries: '))\n",
        "\n",
        "while tries > 0:\n",
        "\tguess = int(input(\"Enter your guess: \"))\n",
        "\n",
        "\tif not duplicate(guess):\n",
        "\t\tprint(\"repeated didgits not allowed.\")\n",
        "\t\tcontinue\n",
        "\tif guess < 100 or guess > 999:\n",
        "\t\tprint(\"Enter 3 digit number only.\")\n",
        "\t\tcontinue\n",
        "\n",
        "\tdog_cat = numOfdogscats(value,guess)\n",
        "\tprint(f\"{dog_cat[0]} dogs, {dog_cat[1]} cats\")\n",
        "\ttries -=1\n",
        "\n",
        "\tif dog_cat[0] == 3:\n",
        "\t\tprint(\"You guessed right!\")\n",
        "\t\tbreak\n",
        "else:\n",
        "\tprint(f\"You ran out of tries. Number was {value}\")"
      ]
    }
  ]
}